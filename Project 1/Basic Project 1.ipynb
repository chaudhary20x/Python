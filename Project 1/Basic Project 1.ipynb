{
 "cells": [
  {
   "cell_type": "markdown",
   "id": "39fcccd1-e1ae-4979-91ea-26e6af7383e9",
   "metadata": {},
   "source": [
    "## Guessing "
   ]
  },
  {
   "cell_type": "markdown",
   "id": "05c7299b-f409-4c48-85f8-c5f8a8009588",
   "metadata": {},
   "source": [
    "# Project 1\n",
    "-Guess the Number"
   ]
  },
  {
   "cell_type": "code",
   "execution_count": 13,
   "id": "3a1aa04b-bf6a-479e-a25a-90898cd0566b",
   "metadata": {},
   "outputs": [
    {
     "name": "stdout",
     "output_type": "stream",
     "text": [
      "Welcome to The Game \n",
      " Here are the numbers between 1 to 100 , Guess the correct one !\n",
      "Press e to exit the Game and any key to Continue\n"
     ]
    },
    {
     "name": "stdin",
     "output_type": "stream",
     "text": [
      "Enter number between 1 to 100 2\n"
     ]
    },
    {
     "name": "stdout",
     "output_type": "stream",
     "text": [
      "You guess larger number than actual number ,Try again\n",
      "You attempts 1 Times\n"
     ]
    },
    {
     "name": "stdin",
     "output_type": "stream",
     "text": [
      "Your want to continue or exit the game ? 1\n",
      "Enter number between 1 to 100 1\n"
     ]
    },
    {
     "name": "stdout",
     "output_type": "stream",
     "text": [
      "Congratulations ! You won \n",
      "You won in 2   attempts \n"
     ]
    }
   ],
   "source": [
    "import random\n",
    "print(\"Welcome to The Game \")\n",
    "print(\" Here are the numbers between 1 to 100 , Guess the correct one !\")\n",
    "attempts=0\n",
    "num=random.randint(1,100)\n",
    "print(\"Press e to exit the Game and any key to Continue\")\n",
    "ex ='f'\n",
    "while ex!='e':\n",
    "    try:\n",
    "         g=int(input(\"Enter number between 1 to 100\"))\n",
    "    except:\n",
    "         print(\"Enter Valid Number \")\n",
    "         continue\n",
    "    attempts +=1\n",
    "    if g<num:\n",
    "        print(\"you guess the lower number than the actual one ,Try Again\")\n",
    "        print(f\"You attempts {attempts} Times \")\n",
    "    elif g>num:\n",
    "        print(\"You guess larger number than actual number ,Try again\")\n",
    "        print(f\"You attempts {attempts} Times\")\n",
    "    else:\n",
    "        print(\"Congratulations ! You won \")\n",
    "        print(f\"You won in {attempts}   attempts \")\n",
    "        break\n",
    "    ex=input(\"Your want to continue or exit the game ?\")\n",
    "    "
   ]
  },
  {
   "cell_type": "markdown",
   "id": "45e9602c-e077-409a-8759-9858643f8b95",
   "metadata": {},
   "source": [
    "# Project 2\n",
    "-Guess The Name"
   ]
  },
  {
   "cell_type": "code",
   "execution_count": 8,
   "id": "5037f696-a8c6-4037-82a5-2583abb6a6c8",
   "metadata": {},
   "outputs": [
    {
     "name": "stdout",
     "output_type": "stream",
     "text": [
      "Enter any name  and I will Guess your Input name \n"
     ]
    },
    {
     "name": "stdin",
     "output_type": "stream",
     "text": [
      "Enter Guessing Name  Hami\n"
     ]
    },
    {
     "name": "stdout",
     "output_type": "stream",
     "text": [
      "OKy I am Guessing the Name :\n",
      "Loading\n",
      "Loading\n",
      "Loading\n",
      "Loading\n",
      "Loading\n",
      "Loading\n",
      " oh ! You guess this Hami name ,Try Difficult one  \n"
     ]
    }
   ],
   "source": [
    "print(\"Enter any name  and I will Guess your Input name \")\n",
    "guess_name=input(\"Enter Guessing Name \")\n",
    "if guess_name.isalpha():   #isdigit() for digits check\n",
    "    print(\"OKy I am Guessing the Name :\")\n",
    "    x=0\n",
    "    while x<=5:\n",
    "        print(\"Loading\")\n",
    "        x+=1\n",
    "    print(f\" oh ! You guess this {guess_name} name ,Try Difficult one  \")\n",
    "else :\n",
    "    print(\" Enter name not numbers \")"
   ]
  },
  {
   "cell_type": "markdown",
   "id": "a855ffe9-6bec-4059-990e-a74dbbd4590d",
   "metadata": {},
   "source": [
    "# FizzBuzz"
   ]
  },
  {
   "cell_type": "code",
   "execution_count": 12,
   "id": "a1d51b6f-1a13-48a1-86fd-70b1ddc1563a",
   "metadata": {},
   "outputs": [
    {
     "name": "stdout",
     "output_type": "stream",
     "text": [
      "1 is Non FizzBuzz Number\n",
      "2 is Non FizzBuzz Number\n",
      "3 is Fizz\n",
      "4 is Non FizzBuzz Number\n",
      "5 is Buzz\n",
      "6 is Fizz\n",
      "7 is Non FizzBuzz Number\n",
      "8 is Non FizzBuzz Number\n",
      "9 is Fizz\n",
      "10 is Buzz\n",
      "11 is Non FizzBuzz Number\n",
      "12 is Fizz\n",
      "13 is Non FizzBuzz Number\n",
      "14 is Non FizzBuzz Number\n",
      "15 is Fizz\n",
      "16 is Non FizzBuzz Number\n",
      "17 is Non FizzBuzz Number\n",
      "18 is Fizz\n",
      "19 is Non FizzBuzz Number\n",
      "20 is Buzz\n",
      "21 is Fizz\n",
      "22 is Non FizzBuzz Number\n",
      "23 is Non FizzBuzz Number\n",
      "24 is Fizz\n",
      "25 is Buzz\n",
      "26 is Non FizzBuzz Number\n",
      "27 is Fizz\n",
      "28 is Non FizzBuzz Number\n",
      "29 is Non FizzBuzz Number\n",
      "30 is Fizz\n",
      "31 is Non FizzBuzz Number\n",
      "32 is Non FizzBuzz Number\n",
      "33 is Fizz\n",
      "34 is Non FizzBuzz Number\n",
      "35 is Buzz\n",
      "36 is Fizz\n",
      "37 is Non FizzBuzz Number\n",
      "38 is Non FizzBuzz Number\n",
      "39 is Fizz\n",
      "40 is Buzz\n",
      "41 is Non FizzBuzz Number\n",
      "42 is Fizz\n",
      "43 is Non FizzBuzz Number\n",
      "44 is Non FizzBuzz Number\n",
      "45 is Fizz\n",
      "46 is Non FizzBuzz Number\n",
      "47 is Non FizzBuzz Number\n",
      "48 is Fizz\n",
      "49 is Non FizzBuzz Number\n",
      "50 is Buzz\n",
      "51 is Fizz\n",
      "52 is Non FizzBuzz Number\n",
      "53 is Non FizzBuzz Number\n",
      "54 is Fizz\n",
      "55 is Buzz\n",
      "56 is Non FizzBuzz Number\n",
      "57 is Fizz\n",
      "58 is Non FizzBuzz Number\n",
      "59 is Non FizzBuzz Number\n",
      "60 is Fizz\n",
      "61 is Non FizzBuzz Number\n",
      "62 is Non FizzBuzz Number\n",
      "63 is Fizz\n",
      "64 is Non FizzBuzz Number\n",
      "65 is Buzz\n",
      "66 is Fizz\n",
      "67 is Non FizzBuzz Number\n",
      "68 is Non FizzBuzz Number\n",
      "69 is Fizz\n",
      "70 is Buzz\n",
      "71 is Non FizzBuzz Number\n",
      "72 is Fizz\n",
      "73 is Non FizzBuzz Number\n",
      "74 is Non FizzBuzz Number\n",
      "75 is Fizz\n",
      "76 is Non FizzBuzz Number\n",
      "77 is Non FizzBuzz Number\n",
      "78 is Fizz\n",
      "79 is Non FizzBuzz Number\n",
      "80 is Buzz\n",
      "81 is Fizz\n",
      "82 is Non FizzBuzz Number\n",
      "83 is Non FizzBuzz Number\n",
      "84 is Fizz\n",
      "85 is Buzz\n",
      "86 is Non FizzBuzz Number\n",
      "87 is Fizz\n",
      "88 is Non FizzBuzz Number\n",
      "89 is Non FizzBuzz Number\n",
      "90 is Fizz\n",
      "91 is Non FizzBuzz Number\n",
      "92 is Non FizzBuzz Number\n",
      "93 is Fizz\n",
      "94 is Non FizzBuzz Number\n",
      "95 is Buzz\n",
      "96 is Fizz\n",
      "97 is Non FizzBuzz Number\n",
      "98 is Non FizzBuzz Number\n",
      "99 is Fizz\n",
      "100 is Buzz\n"
     ]
    }
   ],
   "source": [
    "n=100\n",
    "for i in range (1,n+1):\n",
    "    if i%3 ==0:\n",
    "        print(f\"{i} is Fizz\")\n",
    "    elif i%5 ==0:\n",
    "        print(f\"{i} is Buzz\")\n",
    "    elif i%3 ==0 & i%5==0:\n",
    "        print (f\"{i} is FizzBuzz\")\n",
    "    else:\n",
    "        print(f\"{i} is Non FizzBuzz Number\")\n",
    "       "
   ]
  },
  {
   "cell_type": "markdown",
   "id": "bff5dedb-aa6a-46ac-9d02-5533321e05b5",
   "metadata": {},
   "source": [
    "# Calculator"
   ]
  },
  {
   "cell_type": "code",
   "execution_count": 29,
   "id": "953990ea-8f8a-49b1-a261-12252e90f620",
   "metadata": {},
   "outputs": [],
   "source": [
    "def add(x,y):\n",
    "    print(f\"Addtion of {x} and {y} is {x+y}\")\n",
    "def sub(x,y):\n",
    "    print(f\"Subtraction of {x} and {y} is {x-y}\")\n",
    "def mul(x,y):\n",
    "    print(f\"Multiplication of {x} and {y} is {x*y}\")\n",
    "def div(x,y):\n",
    "    if y==0:\n",
    "        print(\"Denominator should be greater than 1 ,Otherwise division is not Possible \")\n",
    "    else:\n",
    "        print(f\"Division of {x} and {y} is {x/y}\")\n"
   ]
  },
  {
   "cell_type": "code",
   "execution_count": 30,
   "id": "022db83a-0352-48e8-a0d5-756aa56cce29",
   "metadata": {},
   "outputs": [
    {
     "name": "stdout",
     "output_type": "stream",
     "text": [
      "Simple Calculations \n",
      " Enter Following Operation by clicking 1,2,3 and 4\n",
      "+ Addition\n",
      "- Subtraction\n",
      "* Multiplication\n",
      "/ Division\n"
     ]
    },
    {
     "name": "stdin",
     "output_type": "stream",
     "text": [
      "Enter First Number 2\n",
      "Enter Second Number 2\n",
      "Enter Operation you want to perform /\n"
     ]
    },
    {
     "name": "stdout",
     "output_type": "stream",
     "text": [
      "Division of 2.0 and 2.0 is 1.0\n"
     ]
    }
   ],
   "source": [
    "print(\"Simple Calculations \")\n",
    "print(\" Enter Following Operation by clicking 1,2,3 and 4\")\n",
    "print(\"+ Addition\")\n",
    "print(\"- Subtraction\")\n",
    "print(\"* Multiplication\")\n",
    "print(\"/ Division\")\n",
    "user_input=float(input(\"Enter First Number\"))\n",
    "user_input_1=float(input(\"Enter Second Number\"))\n",
    "user=input(\"Enter Operation you want to perform\")\n",
    "if user =='+':\n",
    "    add(user_input,user_input_1)\n",
    "elif user =='-':\n",
    "    sub(user_input,user_input_1)\n",
    "elif user == '*':\n",
    "    mul(user_input,user_input_1)\n",
    "elif user =='/':\n",
    "    div(user_input,user_input_1)\n",
    "else:\n",
    "    print(\"Enter the Correct Operation and try again\")"
   ]
  },
  {
   "cell_type": "markdown",
   "id": "55268d5e-d99e-4921-8bad-765c73f976ff",
   "metadata": {},
   "source": [
    "# Calculate BMI"
   ]
  },
  {
   "cell_type": "markdown",
   "id": "cb8af85f-3770-4d4c-bf5a-46b77e440428",
   "metadata": {},
   "source": [
    "## - Get knowldge how many People you can Kill according Your Fitness"
   ]
  },
  {
   "cell_type": "code",
   "execution_count": 15,
   "id": "faefb5c1-fb55-4183-8429-575d0207dfaa",
   "metadata": {},
   "outputs": [
    {
     "name": "stdout",
     "output_type": "stream",
     "text": [
      "Welcome to the People Killing ability Calculator \n",
      "Decrease Population by killing random People will help you to live longer \n"
     ]
    },
    {
     "name": "stdin",
     "output_type": "stream",
     "text": [
      "Enter your Weight 60\n",
      "Enter your Height 5.7\n"
     ]
    },
    {
     "name": "stdout",
     "output_type": "stream",
     "text": [
      "Your BMI is 19.87795090805119\n",
      "You are fit and can kill  3 people and can kill upto 20 people easily if you use your brain\n"
     ]
    }
   ],
   "source": [
    "def bmi_cal(weight,height):\n",
    "    health=weight/(height**2)\n",
    "    return health\n",
    "print(\"Welcome to the People Killing ability Calculator \")\n",
    "print(\"Decrease Population by killing random People will help you to live longer \")\n",
    "weight=float(input(\"Enter your Weight\"))\n",
    "height=float(input(\"Enter your Height\"))\n",
    "height_in_meters=height*0.3048\n",
    "bmi= bmi_cal(weight,height_in_meters)\n",
    "print(f\"Your BMI is {bmi}\")\n",
    "if bmi<18.5:\n",
    "    print(\"You are under Weight and Can't Kill anybody ,except that Your are innocence\")\n",
    "elif bmi <25:\n",
    "    print(\"You are fit and can kill  3 people and can kill upto 20 people easily if you use your brain\")\n",
    "elif bmi>25:\n",
    "    print(\"You are over weight and can kill whole humanity by eating their foods\")\n",
    "\n"
   ]
  },
  {
   "cell_type": "code",
   "execution_count": null,
   "id": "5da5cf1b-89de-4334-abfd-1bccb0b5bea1",
   "metadata": {},
   "outputs": [],
   "source": []
  }
 ],
 "metadata": {
  "kernelspec": {
   "display_name": "Python 3 (ipykernel)",
   "language": "python",
   "name": "python3"
  },
  "language_info": {
   "codemirror_mode": {
    "name": "ipython",
    "version": 3
   },
   "file_extension": ".py",
   "mimetype": "text/x-python",
   "name": "python",
   "nbconvert_exporter": "python",
   "pygments_lexer": "ipython3",
   "version": "3.12.1"
  }
 },
 "nbformat": 4,
 "nbformat_minor": 5
}
