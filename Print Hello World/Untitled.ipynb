{
 "cells": [
  {
   "cell_type": "markdown",
   "id": "b123e43c-17cf-46e0-80d2-c7462b31991e",
   "metadata": {},
   "source": [
    "## Print Hello World!"
   ]
  },
  {
   "cell_type": "code",
   "execution_count": 1,
   "id": "ff925337-3ddb-4c58-bd9e-ae3d5e95d601",
   "metadata": {},
   "outputs": [
    {
     "name": "stdout",
     "output_type": "stream",
     "text": [
      "Hello World !\n"
     ]
    }
   ],
   "source": [
    "print(\"Hello World !\")"
   ]
  },
  {
   "cell_type": "code",
   "execution_count": 2,
   "id": "8ee3cd58-1d87-416f-b197-7c3228dac290",
   "metadata": {},
   "outputs": [
    {
     "name": "stdout",
     "output_type": "stream",
     "text": [
      "Hello World !\n"
     ]
    }
   ],
   "source": [
    "variab=\"Hello World !\"\n",
    "print(variab)"
   ]
  },
  {
   "cell_type": "code",
   "execution_count": null,
   "id": "7ddcf588-50d0-4dba-bfbc-c45556a56c5f",
   "metadata": {},
   "outputs": [],
   "source": []
  }
 ],
 "metadata": {
  "kernelspec": {
   "display_name": "Python 3 (ipykernel)",
   "language": "python",
   "name": "python3"
  },
  "language_info": {
   "codemirror_mode": {
    "name": "ipython",
    "version": 3
   },
   "file_extension": ".py",
   "mimetype": "text/x-python",
   "name": "python",
   "nbconvert_exporter": "python",
   "pygments_lexer": "ipython3",
   "version": "3.12.1"
  }
 },
 "nbformat": 4,
 "nbformat_minor": 5
}
